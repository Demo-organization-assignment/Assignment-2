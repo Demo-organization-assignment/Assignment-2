{
 "cells": [
  {
   "cell_type": "markdown",
   "id": "34e1eec1",
   "metadata": {},
   "source": [
    "## BASIC DOCKER COMMANDS\n",
    "\n",
    "### 1. Finding the version\n",
    "\n",
    "<br>\n",
    "<img src = \"images/Screenshot 2022-10-07 at 9.35.52 AM.png\">\n",
    "<br>\n",
    "\n",
    "```docker --version``` <b>commands helps to know about the installed docker version. </b>\n",
    "\n",
    "### 2. Downloading image\n",
    "\n",
    "<br>\n",
    "<img src = \"images/Screenshot 2022-10-07 at 9.37.43 AM.png\">\n",
    "<br>\n",
    "\n",
    "```docker pull <imagename>``` <b>This commands help to download (pull) images from duckerhub to local.</b>\n",
    "\n",
    "### 3. Images\n",
    "\n",
    "<br>\n",
    "<img src = \"images/Screenshot 2022-10-07 at 9.38.09 AM.png\">\n",
    "<br>\n",
    "\n",
    "``` docker images``` <b> Docker images commands is used to list all the images present in local system.</b>\n",
    "\n",
    "### 4. Run\n",
    "\n",
    "<br>\n",
    "<img src = \"images/Screenshot 2022-10-07 at 9.39.21 AM.png\">\n",
    "<br>\n",
    "\n",
    "```docker run <imagename>``` <b> Docker run command is used to run images locally. If image is present locally it will run it and if image is not present in local system, it will pull it from dockerhub.</b><br>\n",
    "``` Here -it instructs Docker to allocate a pseudo-TTY connected to the container’s stdin; creating an interactive bash shell in the container. ```\n",
    "\n",
    "### 5. docker ps\n",
    "\n",
    "<br>\n",
    "<img src = \"images/Screenshot 2022-10-07 at 9.39.38 AM.png\">\n",
    "<br>\n",
    "\n",
    "```docker ps command is used to list all running containers with container details. ```\n",
    "\n",
    "### 6. docker ps -a\n",
    "\n",
    "<br>\n",
    "<img src = \"images/Screenshot 2022-10-07 at 9.40.01 AM.png\">\n",
    "<br>\n",
    "\n",
    "```docker ps -a command is used to list all docker container running/exited/stopped with container details.```\n",
    "\n",
    "### 7. docker exec\n",
    "\n",
    "<br>\n",
    "<img src = \"images/Screenshot 2022-10-07 at 9.41.18 AM.png\">\n",
    "<br>\n",
    "\n",
    "```docker exec command is used to access the docker container and run commands inside the container.```\n",
    "\n",
    "### 8. Removing container\n",
    "\n",
    "<br>\n",
    "<img src = \"images/Screenshot 2022-10-07 at 9.45.36 AM.png\">\n",
    "<br>\n",
    "\n",
    "```docker rm <containerID> command is used to remove container from local machine.```\n",
    "\n",
    "### 9. Removing image\n",
    "\n",
    "<br>\n",
    "<img src = \"images/Screenshot 2022-10-07 at 9.46.37 AM.png\">\n",
    "<br>\n",
    "\n",
    "```docker rmi <imageID> command is used to remove image from local machine.```\n",
    "\n",
    "### 10. Restart Docker\n",
    "\n",
    "<br>\n",
    "<img src = \"images/Screenshot 2022-10-07 at 9.53.34 AM.png\">\n",
    "<br>\n",
    "\n",
    "```docker restart <containerID> command is used to restart the docker container with container id mentioned in the command.```\n",
    "\n",
    "### 11. Stopping Docker\n",
    "\n",
    "<br>\n",
    "<img src = \"images/Screenshot 2022-10-07 at 9.54.07 AM.png\">\n",
    "<br>\n",
    "\n",
    "```docker stop <containerID> command is used to stop the docker container with container id mentioned in the command.```\n",
    "\n",
    "### 12. Starting and Killing Docker\n",
    "\n",
    "<br>\n",
    "<img src = \"images/Screenshot 2022-10-07 at 9.54.55 AM.png\">\n",
    "<br>\n",
    "\n",
    "```docker start <containerID> command is used to start the docker container with container id mentioned in the command. And similarly docker kill <containerID> command is used to kill the docker container```\n",
    "\n",
    "### 13. Docker network\n",
    "\n",
    "<br>\n",
    "<img src = \"images/Screenshot 2022-10-07 at 9.56.16 AM.png\">\n",
    "<br>\n",
    "\n",
    "```docker network ls command is used to lists the details of all the network in the cluster.```\n",
    "\n",
    "### 14. Copying file\n",
    "\n",
    "<br>\n",
    "<img src = \"images/Screenshot 2022-10-07 at 9.59.44 AM.png\">\n",
    "<br>\n",
    "\n",
    "```sudo docker cp containerID:container/file/path /local/file/path This command is used to copy a file from a docker container to the local system.```\n",
    "\n",
    "### 15. Checking history\n",
    "\n",
    "<br>\n",
    "<img src = \"images/Screenshot 2022-10-07 at 10.00.10 AM.png\">\n",
    "<br>\n",
    "\n",
    "```docker history <imageID> this command shows the history of a docker image with the image name mentioned in the command.```\n",
    "\n",
    "### 16. Checking logs\n",
    "\n",
    "<br>\n",
    "<img src = \"images/Screenshot 2022-10-07 at 10.00.42 AM.png\">\n",
    "<br>\n",
    "\n",
    "```docker logs <containerID> this commands is used to show the logs of the docker container with contained id mentioned in the command.```\n",
    "\n",
    "### 17. Searching image\n",
    "\n",
    "<br>\n",
    "<img src = \"images/Screenshot 2022-10-07 at 10.01.09 AM.png\">\n",
    "<br>\n",
    "\n",
    "``` docker search <imageName> this command help to search for a docker image on dockerhub with the name mentioned in the command.```"
   ]
  },
  {
   "cell_type": "markdown",
   "id": "b5496af6",
   "metadata": {},
   "source": [
    "# Task 2"
   ]
  },
  {
   "cell_type": "markdown",
   "id": "4453ab31",
   "metadata": {},
   "source": [
    "## Run Hello World Docker Image Locally\n",
    "\n",
    "<br>\n",
    "<img src = \"images/Screenshot 2022-10-07 at 1.44.19 PM.png\">\n",
    "<br>"
   ]
  },
  {
   "cell_type": "markdown",
   "id": "b382cf50",
   "metadata": {},
   "source": [
    "# Task 3"
   ]
  },
  {
   "cell_type": "markdown",
   "id": "83c94247",
   "metadata": {},
   "source": [
    "### 1. Create a Dockerfile for your fastapi hello world application\n",
    "### 2. Build Docker image using Docker file.\n",
    "### 3. Run docker image build in previous step.\n",
    "### 4. Push your Docker image to Docker Hub."
   ]
  },
  {
   "cell_type": "markdown",
   "id": "05e17b9b",
   "metadata": {},
   "source": [
    "<br>\n",
    "<img src = \"images/Screenshot 2022-10-07 at 3.52.19 PM.png\">\n",
    "<br>\n",
    "\n",
    "```\n",
    "1. Docker File is created and saved as Name Dockerfile\n",
    "2. Docker image is Build with name \"travi0764/flask_Demo\"\n",
    "3. Docker image pushed to dockerhub.\n",
    "```\n",
    "<br>\n",
    "<img src = \"images/Screenshot 2022-10-07 at 3.52.11 PM.png\">\n",
    "<br>\n",
    "\n",
    "```4. Image run.```\n",
    "\n",
    "\n",
    "<br>\n",
    "<img src = \"images/Screenshot 2022-10-07 at 3.59.04 PM.png\">\n",
    "<br>"
   ]
  },
  {
   "cell_type": "markdown",
   "id": "47950a38",
   "metadata": {},
   "source": [
    "# Task 4"
   ]
  },
  {
   "cell_type": "markdown",
   "id": "f7db2acf",
   "metadata": {},
   "source": [
    "<br>\n",
    "<img src = \"images/Screenshot 2022-10-07 at 7.26.30 PM.png\">\n",
    "<br>\n",
    "\n",
    "<br>\n",
    "<img src = \"images/Screenshot 2022-10-07 at 7.12.39 PM.png\">\n",
    "<br>\n",
    "\n",
    "```Successfully Build image and pushed it to dockerhub using github actions.```"
   ]
  },
  {
   "cell_type": "code",
   "execution_count": null,
   "id": "58a3eed9",
   "metadata": {},
   "outputs": [],
   "source": []
  },
  {
   "cell_type": "code",
   "execution_count": null,
   "id": "482616f7",
   "metadata": {},
   "outputs": [],
   "source": []
  },
  {
   "cell_type": "code",
   "execution_count": 1,
   "id": "663b50d3",
   "metadata": {},
   "outputs": [],
   "source": [
    "import os\n",
    "def fun(path):\n",
    "    rt = os.path.split(path)\n",
    "    print(\"<br>\")\n",
    "    print('<img src = \"images/'+rt[1]+'\">')\n",
    "    print(\"<br>\")"
   ]
  },
  {
   "cell_type": "code",
   "execution_count": 4,
   "id": "23f297d5",
   "metadata": {},
   "outputs": [
    {
     "name": "stdout",
     "output_type": "stream",
     "text": [
      "<br>\n",
      "<img src = \"images/Screenshot 2022-10-07 at 7.26.30 PM.png\">\n",
      "<br>\n"
     ]
    }
   ],
   "source": [
    "path=\"/Users/ravitiwari/Codes/Assignment-2/images/Screenshot 2022-10-07 at 7.26.30 PM.png\"\n",
    "fun(path)"
   ]
  },
  {
   "cell_type": "code",
   "execution_count": null,
   "id": "bcebab88",
   "metadata": {},
   "outputs": [],
   "source": []
  }
 ],
 "metadata": {
  "kernelspec": {
   "display_name": "Python 3 (ipykernel)",
   "language": "python",
   "name": "python3"
  },
  "language_info": {
   "codemirror_mode": {
    "name": "ipython",
    "version": 3
   },
   "file_extension": ".py",
   "mimetype": "text/x-python",
   "name": "python",
   "nbconvert_exporter": "python",
   "pygments_lexer": "ipython3",
   "version": "3.9.10"
  }
 },
 "nbformat": 4,
 "nbformat_minor": 5
}
